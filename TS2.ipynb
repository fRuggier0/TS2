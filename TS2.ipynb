{
 "cells": [
  {
   "cell_type": "markdown",
   "id": "125d607e-bc2c-4fb2-8a1f-7e0f6efe7270",
   "metadata": {},
   "source": [
    "# Tarea semanal 2\n",
    "\n",
    "#### Franco Ruggiero"
   ]
  },
  {
   "cell_type": "markdown",
   "id": "8555e2e0-c37a-410b-bc72-246eff676d2e",
   "metadata": {},
   "source": [
    "> Dado el siguiente circuito: <center> <img src=\"image_TS2.png\" style=\"width:600px; height:300px\"> <center>"
   ]
  },
  {
   "cell_type": "markdown",
   "id": "c7c5d630-5907-4e2b-9047-0fed8a3fc1e1",
   "metadata": {},
   "source": [
    "- Hallar la transferencia $T = \\frac{V_o}{V_i}$ en función de ωo y Q\n",
    "- Hallar los parámetros ωo, Q y k"
   ]
  },
  {
   "cell_type": "markdown",
   "id": "a47368a7-c9b2-4207-a85e-fbb5b9b3368e",
   "metadata": {},
   "source": [
    "> Desarrollo: <center> <img src=\"Desarrollo_parte1.jpg\" style=\"width:700px; height:800px\"> <center> <center> <img src=\"Desarrollo_parte2.jpg\" style=\"width:700px; height:800px\"> <center> "
   ]
  },
  {
   "cell_type": "markdown",
   "id": "74008c3e-7e83-49fa-b5ad-d4ecef84e492",
   "metadata": {},
   "source": [
    "- Obtener el valor de los componentes para que el circuito se comporte como un Butterworth de 2do orden.\n",
    "###### Para que el circuito se comporte como un butterworth de $2^{do}$ orden: \n",
    "> <center> <img src=\"PZ.jpg\" style=\"width:300px; height:200px\"> <center>\n"
   ]
  },
  {
   "cell_type": "markdown",
   "id": "e4f50d8a-f585-43be-bea5-a361ff652953",
   "metadata": {},
   "source": [
    ">> ### $\\alpha = \\frac{\\pi}{2n} = \\frac{\\pi}{4}$ \n",
    ">> ### $Q = \\frac{1}{2\\cos(\\alpha)} = \\frac{\\sqrt[]{2}}{2} = \\frac{R_2}{R_3}    \\Longrightarrow   R_2 = \\frac{\\sqrt[]{2}}{2} R_3$\n",
    ">>\n",
    ">> Normalizando en impedancia:\n",
    ">> ### $\\Omega_w: w_0 = 1 \\Longrightarrow C = \\frac{1}{R3}$\n",
    ">>\n",
    ">> Adoptando, ademas:\n",
    ">> ### $R_3 = 2  \\longrightarrow R_1 = 1 \\longrightarrow R_4 = 10$\n",
    ">> ## $R_2 = \\sqrt[]{2} \t\\longrightarrow  C = \\frac{1}{2}$\n",
    ">>\n",
    ">> La trandferencia quedara:\n",
    ">> ## $T_{B_2(s)} = -\\frac{R_3}{R_1} \\frac{1}{s^2+s\\frac{2}{\\sqrt[]{2}}+1} \\Longrightarrow T_{B_2(s)} = -2 \\frac{1}{s^2+s\\frac{2}{\\sqrt[]{2}}+1}$\n",
    ">>"
   ]
  },
  {
   "cell_type": "markdown",
   "id": "6016a25e-c7a7-40cb-92d0-1210da19cc3e",
   "metadata": {},
   "source": [
    "- Cómo podría obtener un filtro pasabajo Butterworth de 4to orden, a partir de un prototipo basado en este circuito, y que cumpla con |T(0)|=20dB"
   ]
  },
  {
   "cell_type": "markdown",
   "id": "9e01a206-c88d-4465-9c45-fe04e0a80dd0",
   "metadata": {},
   "source": [
    "###### Para obtener un circuito que se comporte como un butterworth de $4^{to}$ orden: \n",
    "> <center> <img src=\"PZ4.jpg\" style=\"width:300px; height:200px\"> <center>\n",
    ">"
   ]
  },
  {
   "cell_type": "markdown",
   "id": "e06df26f-6ec9-4aff-b17b-76395f1cc017",
   "metadata": {},
   "source": [
    ">> ### $\\alpha_1 = \\frac{\\pi}{2n} = \\frac{\\pi}{8}$\n",
    ">> ### $\\alpha_2 = \\frac{\\pi}{2n} + \\frac{\\pi}{n} = \\frac{3}{8}\\pi$ \n",
    ">> ## $Q_1 = \\frac{1}{2\\cos(\\frac{\\pi}{8})} = \\frac{\\dot{R_2}}{\\dot{R_3}}$\n",
    ">> ## $Q_2 = \\frac{1}{2\\cos(\\frac{3}{8}\\pi)} = \\frac{\\ddot{R_2}}{\\ddot{R_3}}$\n",
    ">>\n",
    ">> Como $|T_{(0)}| = 20dB \\longrightarrow |T_{(0)}| = 10 $:\n",
    ">> ### $|T_{(0)}| = 10 = \\frac{R_3}{R_1} \\Longrightarrow R_3 = 10 R_1$\n",
    ">>\n",
    ">> Luego teniendo en cuenta las siguientes \"relaciones\" previamente calculadas, se procedera a adoptar valores para sus componentes:\n",
    ">>## $\\left\\{\\begin{array}{l} Q_1 = \\frac{1}{2\\cos(\\frac{\\pi}{8})} = \\frac{\\dot{R_2}}{\\dot{R_3}} \\\\ Q_2 = \\frac{1}{2\\cos(\\frac{3}{8}\\pi)} = \\frac{\\ddot{R_2}}{\\ddot{R_3}} \\\\ R_3 = 10 R_1 \\end{array}\\right.$\n",
    ">>\n",
    ">> \n",
    ">> En donde el conexionado entre los dos butterworth de $2^{do}$ orden sera:\n",
    ">> \n",
    ">> <center> <img src=\"BW4.jpg\" style=\"width:700px; height:200px\"> <center>"
   ]
  },
  {
   "cell_type": "code",
   "execution_count": null,
   "id": "5ae683b6-c25e-43d8-94c6-a1ad8783b46c",
   "metadata": {},
   "outputs": [],
   "source": []
  }
 ],
 "metadata": {
  "kernelspec": {
   "display_name": "Python 3 (ipykernel)",
   "language": "python",
   "name": "python3"
  },
  "language_info": {
   "codemirror_mode": {
    "name": "ipython",
    "version": 3
   },
   "file_extension": ".py",
   "mimetype": "text/x-python",
   "name": "python",
   "nbconvert_exporter": "python",
   "pygments_lexer": "ipython3",
   "version": "3.10.12"
  }
 },
 "nbformat": 4,
 "nbformat_minor": 5
}
